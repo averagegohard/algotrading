{
 "metadata": {
  "name": "",
  "signature": "sha256:16ad65f3abc3d75ff7186c21e8757f6a109041dbbeb975bd38d1798e10b92281"
 },
 "nbformat": 3,
 "nbformat_minor": 0,
 "worksheets": [
  {
   "cells": [
    {
     "cell_type": "code",
     "collapsed": false,
     "input": [
      "import matplotlib.pyplot as plt\n",
      "import numpy as np\n",
      "from scipy.stats import linregress\n",
      "%matplotlib inline\n",
      "\n",
      "def kalman(data, initial_estimate, initial_estimate_error, data_error):\n",
      "    estimate_error = float(initial_estimate_error)\n",
      "    estimate = float(initial_estimate)\n",
      "    # length of estimates array should be one more than length of data because it includes your original guess\n",
      "    estimates = [estimate]\n",
      "    print(estimate)\n",
      "    for each in data:\n",
      "        # Part 1: Calculate kalman gain\n",
      "        kg = estimate_error/(estimate_error+data_error)\n",
      "\n",
      "        # Part 2: Append and calculate current estimate\n",
      "        prev_estimate = estimate\n",
      "        estimate = prev_estimate + kg*(each - prev_estimate)\n",
      "        estimates.append(estimate)\n",
      "\n",
      "        # Part 3: Calculate new error in estimate\n",
      "        estimate_error = (1-kg)*estimate_error\n",
      "\n",
      "\n",
      "    print(\"The next estimate should be \" +str(estimates[-1]) + \" with an error of about \" +str(estimate_error)\n",
      "      + \" assuming data_error is reasonable and there are enough iterations.\")\n",
      "    return estimates\n",
      "\n",
      "# TODO this should really be read in a finance-y way\n",
      "inf = open('/home/keyan/fun/algotrading/DAT_MT_EURUSD_M1_201607.csv')\n",
      "prices = []\n",
      "time = []\n",
      "count = 0\n",
      "\n",
      "for line in inf:\n",
      "    if count<50:\n",
      "        raw = line.split(',')\n",
      "        for i in range(2,6):\n",
      "            prices += [float(raw[i])]\n",
      "            count += 1\n",
      "            time.append(count)\n",
      "    else:\n",
      "        break"
     ],
     "language": "python",
     "metadata": {},
     "outputs": [],
     "prompt_number": 80
    },
    {
     "cell_type": "code",
     "collapsed": false,
     "input": [
      "# Kalman estimates\n",
      "# TODO find values with minimum error for kalman estimates\n",
      "# TODO consider re-evaluating the intial_estimate every x time intervals for more accuracy (since the stock market as a whole \n",
      "# isnt linear, but there may be parts of it that are)\n",
      "initial_estimate = 1.1\n",
      "initial_estimate_error = 1\n",
      "data_error = .05\n",
      "\n",
      "estimates = kalman(prices, initial_estimate, initial_estimate_error, data_error)\n",
      "\n",
      "plt.subplots()\n",
      "plt.plot(time, prices, 'ro')\n",
      "plt.plot(time, estimates[1:], 'bo')\n",
      "plt.show()"
     ],
     "language": "python",
     "metadata": {},
     "outputs": [
      {
       "output_type": "stream",
       "stream": "stdout",
       "text": [
        "1.1\n",
        "The next estimate should be 1.10893045149 with an error of about 0.000960614793468 assuming data_error is reasonable and there are enough iterations.\n"
       ]
      },
      {
       "metadata": {},
       "output_type": "display_data",
       "png": "[encoded data removed]",
       "text": [
        "<matplotlib.figure.Figure at 0x7fe09454f250>"
       ]
      }
     ],
     "prompt_number": 81
    },
    {
     "cell_type": "code",
     "collapsed": false,
     "input": [],
     "language": "python",
     "metadata": {},
     "outputs": []
    }
   ],
   "metadata": {}
  }
 ]
}